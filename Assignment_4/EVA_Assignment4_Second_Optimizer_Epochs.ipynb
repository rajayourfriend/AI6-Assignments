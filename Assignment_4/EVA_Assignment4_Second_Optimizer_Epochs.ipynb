{
  "nbformat": 4,
  "nbformat_minor": 0,
  "metadata": {
    "colab": {
      "name": "EVA_Assignment4_Second_Optimizer_Epochs",
      "version": "0.3.2",
      "provenance": [],
      "collapsed_sections": [],
      "include_colab_link": true
    },
    "kernelspec": {
      "name": "python3",
      "display_name": "Python 3"
    },
    "accelerator": "GPU"
  },
  "cells": [
    {
      "cell_type": "markdown",
      "metadata": {
        "id": "view-in-github",
        "colab_type": "text"
      },
      "source": [
        "<a href=\"https://colab.research.google.com/github/rajayourfriend/AI6-Assignments/blob/master/EVA_Assignment4_Second_Optimizer_Epochs.ipynb\" target=\"_parent\"><img src=\"https://colab.research.google.com/assets/colab-badge.svg\" alt=\"Open In Colab\"/></a>"
      ]
    },
    {
      "cell_type": "markdown",
      "metadata": {
        "id": "ZafDTBHXewk3",
        "colab_type": "text"
      },
      "source": [
        "### First - Vanilla\n",
        "* basic architecture\n",
        "\n",
        "  val_acc got = 97.9\n",
        "  \n",
        "## Second \n",
        "* Change in optimizer\n",
        "* Increase in number of epochs\n",
        "\n",
        "  val_acc got = 98.6\n",
        "\n",
        "### Third\n",
        "* Dropout\n",
        "* Batch Normalization\n",
        "\n",
        "### Fourth\n",
        "* Batch size\n",
        "* Learning rate"
      ]
    },
    {
      "cell_type": "markdown",
      "metadata": {
        "id": "aNyZv-Ec52ot",
        "colab_type": "text"
      },
      "source": [
        "# **Import Libraries and modules**"
      ]
    },
    {
      "cell_type": "code",
      "metadata": {
        "id": "3m3w1Cw49Zkt",
        "colab_type": "code",
        "colab": {}
      },
      "source": [
        "#install keras through pip and import keras\n",
        "# https://keras.io/\n",
        "!pip install -q keras\n",
        "import keras"
      ],
      "execution_count": 0,
      "outputs": []
    },
    {
      "cell_type": "code",
      "metadata": {
        "id": "Eso6UHE080D4",
        "colab_type": "code",
        "colab": {}
      },
      "source": [
        "#import required libraries\n",
        "import numpy as np\n",
        "\n",
        "from keras.models import Sequential\n",
        "from keras.layers import Dense, Dropout, Activation, Flatten, Add\n",
        "from keras.layers import Convolution2D, MaxPooling2D\n",
        "from keras.utils import np_utils\n",
        "from keras.utils.vis_utils import plot_model\n",
        "\n",
        "from keras.datasets import mnist\n",
        "\n",
        "USE_GOOGLE_DRIVE = 0\n",
        "#mount google drive so that some files can be saved or retrieved\n",
        "if USE_GOOGLE_DRIVE:\n",
        "    from google.colab import drive\n",
        "    drive.mount('/gdrive')"
      ],
      "execution_count": 0,
      "outputs": []
    },
    {
      "cell_type": "markdown",
      "metadata": {
        "id": "zByEi95J86RD",
        "colab_type": "text"
      },
      "source": [
        "### Load pre-shuffled MNIST data into train and test sets"
      ]
    },
    {
      "cell_type": "code",
      "metadata": {
        "id": "7eRM0QWN83PV",
        "colab_type": "code",
        "colab": {}
      },
      "source": [
        "#get data from MNIST and assign to proper values\n",
        "(X_train, y_train), (X_test, y_test) = mnist.load_data()"
      ],
      "execution_count": 0,
      "outputs": []
    },
    {
      "cell_type": "code",
      "metadata": {
        "id": "4a4Be72j8-ZC",
        "colab_type": "code",
        "outputId": "09f8fb01-5d0d-4773-a978-ca131d427a85",
        "colab": {
          "base_uri": "https://localhost:8080/",
          "height": 304
        }
      },
      "source": [
        "#print a sample image from input training data\n",
        "print (X_train.shape)\n",
        "from matplotlib import pyplot as plt\n",
        "%matplotlib inline\n",
        "plt.imshow(X_train[0])"
      ],
      "execution_count": 0,
      "outputs": [
        {
          "output_type": "stream",
          "text": [
            "(60000, 28, 28)\n"
          ],
          "name": "stdout"
        },
        {
          "output_type": "execute_result",
          "data": {
            "text/plain": [
              "<matplotlib.image.AxesImage at 0x7f24106f7320>"
            ]
          },
          "metadata": {
            "tags": []
          },
          "execution_count": 24
        },
        {
          "output_type": "display_data",
          "data": {
            "image/png": "[encoded data removed]",
            "text/plain": [
              "<Figure size 432x288 with 1 Axes>"
            ]
          },
          "metadata": {
            "tags": []
          }
        }
      ]
    },
    {
      "cell_type": "code",
      "metadata": {
        "id": "dkmprriw9AnZ",
        "colab_type": "code",
        "colab": {}
      },
      "source": [
        "#convert all the input training data and input test data to one dimension, 28x28x1\n",
        "X_train = X_train.reshape(X_train.shape[0], 28, 28,1)\n",
        "X_test = X_test.reshape(X_test.shape[0], 28, 28,1)"
      ],
      "execution_count": 0,
      "outputs": []
    },
    {
      "cell_type": "code",
      "metadata": {
        "id": "X2m4YS4E9CRh",
        "colab_type": "code",
        "colab": {}
      },
      "source": [
        "#assign type for input training data and input test data\n",
        "X_train = X_train.astype('float32')\n",
        "X_test = X_test.astype('float32')\n",
        "#divide the input training data and input test data with max value of a pixel\n",
        "X_train /= 255\n",
        "X_test /= 255"
      ],
      "execution_count": 0,
      "outputs": []
    },
    {
      "cell_type": "code",
      "metadata": {
        "id": "0Mn0vAYD9DvB",
        "colab_type": "code",
        "outputId": "d2e1f4c2-ffbb-445b-bc1c-980be6148139",
        "colab": {
          "base_uri": "https://localhost:8080/",
          "height": 35
        }
      },
      "source": [
        "#print output of training data for the initial 10\n",
        "y_train[:10]"
      ],
      "execution_count": 0,
      "outputs": [
        {
          "output_type": "execute_result",
          "data": {
            "text/plain": [
              "array([5, 0, 4, 1, 9, 2, 1, 3, 1, 4], dtype=uint8)"
            ]
          },
          "metadata": {
            "tags": []
          },
          "execution_count": 27
        }
      ]
    },
    {
      "cell_type": "code",
      "metadata": {
        "id": "ZG8JiXR39FHC",
        "colab_type": "code",
        "colab": {}
      },
      "source": [
        "# Convert 1-dimensional class arrays to 10-dimensional class matrices\n",
        "Y_train = np_utils.to_categorical(y_train, 10)\n",
        "Y_test = np_utils.to_categorical(y_test, 10)"
      ],
      "execution_count": 0,
      "outputs": []
    },
    {
      "cell_type": "code",
      "metadata": {
        "id": "fYlFRvKS9HMB",
        "colab_type": "code",
        "outputId": "52e346d3-41e2-4869-af13-53328c5bd75f",
        "colab": {
          "base_uri": "https://localhost:8080/",
          "height": 191
        }
      },
      "source": [
        "#print output of training data for the initial 10 after converting to categorical 10-dimensional matrices\n",
        "Y_train[:10]\n"
      ],
      "execution_count": 0,
      "outputs": [
        {
          "output_type": "execute_result",
          "data": {
            "text/plain": [
              "array([[0., 0., 0., 0., 0., 1., 0., 0., 0., 0.],\n",
              "       [1., 0., 0., 0., 0., 0., 0., 0., 0., 0.],\n",
              "       [0., 0., 0., 0., 1., 0., 0., 0., 0., 0.],\n",
              "       [0., 1., 0., 0., 0., 0., 0., 0., 0., 0.],\n",
              "       [0., 0., 0., 0., 0., 0., 0., 0., 0., 1.],\n",
              "       [0., 0., 1., 0., 0., 0., 0., 0., 0., 0.],\n",
              "       [0., 1., 0., 0., 0., 0., 0., 0., 0., 0.],\n",
              "       [0., 0., 0., 1., 0., 0., 0., 0., 0., 0.],\n",
              "       [0., 1., 0., 0., 0., 0., 0., 0., 0., 0.],\n",
              "       [0., 0., 0., 0., 1., 0., 0., 0., 0., 0.]], dtype=float32)"
            ]
          },
          "metadata": {
            "tags": []
          },
          "execution_count": 29
        }
      ]
    },
    {
      "cell_type": "code",
      "metadata": {
        "id": "zOLeNTPT01Ri",
        "colab_type": "code",
        "colab": {}
      },
      "source": [
        "#import batch normalization from keras\n",
        "from keras.layers.normalization import BatchNormalization"
      ],
      "execution_count": 0,
      "outputs": []
    },
    {
      "cell_type": "code",
      "metadata": {
        "id": "BFfxZ1cW_KR4",
        "colab_type": "code",
        "outputId": "c2d27c21-859c-4a8c-da30-6cf871f8aee8",
        "colab": {
          "base_uri": "https://localhost:8080/",
          "height": 835
        }
      },
      "source": [
        "#import Activation from keras\n",
        "from keras.layers import Activation\n",
        "#model initialized with Sequential\n",
        "model = Sequential()\n",
        "\n",
        "#all 3x3 kernel layers are followed by batch normalization and relu activation\n",
        "#last few layers are experimented with Dropout !\n",
        "\n",
        "#General convention for all the succeeding layers\n",
        "#(input) (c) (kernel) => (output)\n",
        "\n",
        "a = 10\n",
        "b = 15\n",
        "c = 10\n",
        "# a=4 & c=10 gives almost equal performance as k=4 & m=20 => val_acc = 97% \n",
        "# a=10 & c=20 gives 99%\n",
        "#a = 10\n",
        "#c = 20\n",
        "\n",
        "#first one is input layer\n",
        "#(28x28x1) (c) (3x3x1)x8 => (26x26x8)\n",
        "model.add(Convolution2D(a, 3, 3, input_shape=(28,28,1))) #8 here is good\n",
        "\n",
        "#(26x26x8) (c) (3x3x1)x8 => (24x24x8)\n",
        "model.add(Convolution2D(b, 3, 3, activation='relu')) # 8 here is okk\n",
        "\n",
        "#(24x24x8) (c) (3x3x1)x8 => (22x22x8)\n",
        "model.add(Convolution2D(c, 3, 3, activation='relu')) # 8 here is okk\n",
        "\n",
        "#(22x22x8) (c) (3x3x1)x8 => (20x20x8)\n",
        "model.add(Convolution2D(b, 3, 3, activation='relu')) # 8 here is good\n",
        "\n",
        "#(20x20x8) (c) (3x3x1)x8 => (18x18x8)\n",
        "model.add(Convolution2D(a, 3, 3, activation='relu')) #8 here is bad\n",
        "\n",
        "#Transition block that contains MP and 1x1\n",
        "#MaxPooling layer\n",
        "#(18x18x8) (c) (2x2) => (9x9x8)\n",
        "model.add(MaxPooling2D(pool_size=(2, 2)))\n",
        "#(9x9x8) (c) (1x1x8)x10 => (9x9x10)\n",
        "model.add(Convolution2D(a, 1, 1, activation='relu')) #8 here is good\n",
        "\n",
        "#(9x9x10) (c) (3x3x1)x8 => (7x7x8)\n",
        "model.add(Convolution2D(b, 3, 3, activation='relu')) #8 here is bad\n",
        "\n",
        "#(7x7x8) (c) (3x3x1)x8 => (5x5x8)\n",
        "model.add(Convolution2D(c, 3, 3, activation='relu')) #8 here is okk\n",
        "\n",
        "#(5x5x8) (c) (3x3x1)x10 => (3x3x10)\n",
        "model.add(Convolution2D(b, 3, 3, activation='relu')) #8 here is better\n",
        "\n",
        "#(3x3x8) (c) (3x3x1)x10 => (1x1x10)\n",
        "model.add(Convolution2D(a, 3, 3, activation='relu')) #8 here is good\n",
        "\n",
        "#(3x3x8) (c) (1x1x1)x10 => (1x1x10)\n",
        "model.add(Convolution2D(10, 1, 1))\n",
        "\n",
        "#Flatten layer\n",
        "model.add(Flatten())\n",
        "#Softmax layer as the last layer\n",
        "model.add(Activation('softmax'))\n",
        "\n",
        "#Print the summary of the network architecture\n",
        "model.summary()\n",
        "if USE_GOOGLE_DRIVE:\n",
        "    plot_model(model, to_file='/gdrive/My Drive/Colab Notebooks/EVA/Assignment4/model_plot_5.png', show_shapes=True, show_layer_names=True)"
      ],
      "execution_count": 0,
      "outputs": [
        {
          "output_type": "stream",
          "text": [
            "_________________________________________________________________\n",
            "Layer (type)                 Output Shape              Param #   \n",
            "=================================================================\n",
            "conv2d_34 (Conv2D)           (None, 26, 26, 10)        100       \n",
            "_________________________________________________________________\n",
            "conv2d_35 (Conv2D)           (None, 24, 24, 15)        1365      \n",
            "_________________________________________________________________\n",
            "conv2d_36 (Conv2D)           (None, 22, 22, 10)        1360      \n",
            "_________________________________________________________________\n",
            "conv2d_37 (Conv2D)           (None, 20, 20, 15)        1365      \n",
            "_________________________________________________________________\n",
            "conv2d_38 (Conv2D)           (None, 18, 18, 10)        1360      \n",
            "_________________________________________________________________\n",
            "max_pooling2d_4 (MaxPooling2 (None, 9, 9, 10)          0         \n",
            "_________________________________________________________________\n",
            "conv2d_39 (Conv2D)           (None, 9, 9, 10)          110       \n",
            "_________________________________________________________________\n",
            "conv2d_40 (Conv2D)           (None, 7, 7, 15)          1365      \n",
            "_________________________________________________________________\n",
            "conv2d_41 (Conv2D)           (None, 5, 5, 10)          1360      \n",
            "_________________________________________________________________\n",
            "conv2d_42 (Conv2D)           (None, 3, 3, 15)          1365      \n",
            "_________________________________________________________________\n",
            "conv2d_43 (Conv2D)           (None, 1, 1, 10)          1360      \n",
            "_________________________________________________________________\n",
            "conv2d_44 (Conv2D)           (None, 1, 1, 10)          110       \n",
            "_________________________________________________________________\n",
            "flatten_4 (Flatten)          (None, 10)                0         \n",
            "_________________________________________________________________\n",
            "activation_4 (Activation)    (None, 10)                0         \n",
            "=================================================================\n",
            "Total params: 11,220\n",
            "Trainable params: 11,220\n",
            "Non-trainable params: 0\n",
            "_________________________________________________________________\n"
          ],
          "name": "stdout"
        },
        {
          "output_type": "stream",
          "text": [
            "/usr/local/lib/python3.6/dist-packages/ipykernel_launcher.py:21: UserWarning: Update your `Conv2D` call to the Keras 2 API: `Conv2D(10, (3, 3), input_shape=(28, 28, 1...)`\n",
            "/usr/local/lib/python3.6/dist-packages/ipykernel_launcher.py:24: UserWarning: Update your `Conv2D` call to the Keras 2 API: `Conv2D(15, (3, 3), activation=\"relu\")`\n",
            "/usr/local/lib/python3.6/dist-packages/ipykernel_launcher.py:27: UserWarning: Update your `Conv2D` call to the Keras 2 API: `Conv2D(10, (3, 3), activation=\"relu\")`\n",
            "/usr/local/lib/python3.6/dist-packages/ipykernel_launcher.py:30: UserWarning: Update your `Conv2D` call to the Keras 2 API: `Conv2D(15, (3, 3), activation=\"relu\")`\n",
            "/usr/local/lib/python3.6/dist-packages/ipykernel_launcher.py:33: UserWarning: Update your `Conv2D` call to the Keras 2 API: `Conv2D(10, (3, 3), activation=\"relu\")`\n",
            "/usr/local/lib/python3.6/dist-packages/ipykernel_launcher.py:40: UserWarning: Update your `Conv2D` call to the Keras 2 API: `Conv2D(10, (1, 1), activation=\"relu\")`\n",
            "/usr/local/lib/python3.6/dist-packages/ipykernel_launcher.py:43: UserWarning: Update your `Conv2D` call to the Keras 2 API: `Conv2D(15, (3, 3), activation=\"relu\")`\n",
            "/usr/local/lib/python3.6/dist-packages/ipykernel_launcher.py:46: UserWarning: Update your `Conv2D` call to the Keras 2 API: `Conv2D(10, (3, 3), activation=\"relu\")`\n",
            "/usr/local/lib/python3.6/dist-packages/ipykernel_launcher.py:49: UserWarning: Update your `Conv2D` call to the Keras 2 API: `Conv2D(15, (3, 3), activation=\"relu\")`\n",
            "/usr/local/lib/python3.6/dist-packages/ipykernel_launcher.py:52: UserWarning: Update your `Conv2D` call to the Keras 2 API: `Conv2D(10, (3, 3), activation=\"relu\")`\n",
            "/usr/local/lib/python3.6/dist-packages/ipykernel_launcher.py:55: UserWarning: Update your `Conv2D` call to the Keras 2 API: `Conv2D(10, (1, 1))`\n"
          ],
          "name": "stderr"
        }
      ]
    },
    {
      "cell_type": "code",
      "metadata": {
        "id": "3GR5OkezevqB",
        "colab_type": "code",
        "colab": {}
      },
      "source": [
        "#compile the model with specific loss function, optimizer and metrics type\n",
        "model.compile(loss='categorical_crossentropy',\n",
        "             optimizer='sgd',\n",
        "             metrics=['accuracy'])"
      ],
      "execution_count": 0,
      "outputs": []
    },
    {
      "cell_type": "code",
      "metadata": {
        "id": "Zp6SuGrL9M3h",
        "colab_type": "code",
        "outputId": "6712d6bd-e625-47f7-89b6-b9feaa4d6d83",
        "colab": {
          "base_uri": "https://localhost:8080/",
          "height": 433
        }
      },
      "source": [
        "#fit the model for the first 20 epochs\n",
        "model.fit(X_train, Y_train, batch_size=32, nb_epoch=10, verbose=1, validation_data=(X_test, Y_test))\n",
        "# 0) epochs = 10  Params = 5.5k     val_acc = 98.4    --- all = 8\n",
        "# 1) epochs = 10  Params = 1.2k     val_acc = 94      --- all = 8\n",
        "# 2.a) epochs = 10  Params = 1.4k     val_acc = 95.47 --- only first = 8, all others = 4\n",
        "# 2.b) epochs = 10  Params = 1.4k     val_acc = 94.5  --- only first 1x1 = 8, all others = 4\n",
        "# 2.c) epochs = 10  Params = 1.4k     val_acc = 95.8  --- only last = 8, all others = 4\n",
        "# 2.c) epochs = 10  Params = 7.6k     val_acc = 98.6  --- all = 10\n",
        "# ) epochs = 10  Params =      val_acc = "
      ],
      "execution_count": 0,
      "outputs": [
        {
          "output_type": "stream",
          "text": [
            "/usr/local/lib/python3.6/dist-packages/ipykernel_launcher.py:1: UserWarning: The `nb_epoch` argument in `fit` has been renamed `epochs`.\n",
            "  \"\"\"Entry point for launching an IPython kernel.\n"
          ],
          "name": "stderr"
        },
        {
          "output_type": "stream",
          "text": [
            "Train on 60000 samples, validate on 10000 samples\n",
            "Epoch 1/10\n",
            "60000/60000 [==============================] - 12s 195us/step - loss: 1.4699 - acc: 0.5000 - val_loss: 0.3413 - val_acc: 0.8987\n",
            "Epoch 2/10\n",
            "60000/60000 [==============================] - 10s 172us/step - loss: 0.2729 - acc: 0.9214 - val_loss: 0.2346 - val_acc: 0.9314\n",
            "Epoch 3/10\n",
            "60000/60000 [==============================] - 10s 168us/step - loss: 0.1760 - acc: 0.9479 - val_loss: 0.1391 - val_acc: 0.9559\n",
            "Epoch 4/10\n",
            "60000/60000 [==============================] - 10s 166us/step - loss: 0.1395 - acc: 0.9579 - val_loss: 0.1074 - val_acc: 0.9658\n",
            "Epoch 5/10\n",
            "60000/60000 [==============================] - 10s 167us/step - loss: 0.1143 - acc: 0.9652 - val_loss: 0.0914 - val_acc: 0.9706\n",
            "Epoch 6/10\n",
            "60000/60000 [==============================] - 10s 167us/step - loss: 0.1006 - acc: 0.9693 - val_loss: 0.0925 - val_acc: 0.9714\n",
            "Epoch 7/10\n",
            "60000/60000 [==============================] - 10s 167us/step - loss: 0.0886 - acc: 0.9732 - val_loss: 0.0923 - val_acc: 0.9704\n",
            "Epoch 8/10\n",
            "60000/60000 [==============================] - 10s 168us/step - loss: 0.0807 - acc: 0.9756 - val_loss: 0.0839 - val_acc: 0.9726\n",
            "Epoch 9/10\n",
            "60000/60000 [==============================] - 11s 184us/step - loss: 0.0754 - acc: 0.9770 - val_loss: 0.0925 - val_acc: 0.9698\n",
            "Epoch 10/10\n",
            "60000/60000 [==============================] - 10s 170us/step - loss: 0.0705 - acc: 0.9782 - val_loss: 0.0784 - val_acc: 0.9750\n"
          ],
          "name": "stdout"
        },
        {
          "output_type": "execute_result",
          "data": {
            "text/plain": [
              "<keras.callbacks.History at 0x7f23e38d7828>"
            ]
          },
          "metadata": {
            "tags": []
          },
          "execution_count": 53
        }
      ]
    },
    {
      "cell_type": "code",
      "metadata": {
        "id": "wtLVs56srcYP",
        "colab_type": "code",
        "outputId": "1eced1b9-d575-4fd0-ac89-07dd679988dd",
        "colab": {
          "base_uri": "https://localhost:8080/",
          "height": 2880
        }
      },
      "source": [
        "#fit the model for the first 120 epochs\n",
        "model.fit(X_train, Y_train, batch_size=32, nb_epoch=80, verbose=1, validation_data=(X_test, Y_test))"
      ],
      "execution_count": 0,
      "outputs": [
        {
          "output_type": "stream",
          "text": [
            "Train on 60000 samples, validate on 10000 samples\n",
            "Epoch 1/80\n",
            " 1056/60000 [..............................] - ETA: 9s - loss: 0.0694 - acc: 0.9782"
          ],
          "name": "stdout"
        },
        {
          "output_type": "stream",
          "text": [
            "/usr/local/lib/python3.6/dist-packages/ipykernel_launcher.py:1: UserWarning: The `nb_epoch` argument in `fit` has been renamed `epochs`.\n",
            "  \"\"\"Entry point for launching an IPython kernel.\n"
          ],
          "name": "stderr"
        },
        {
          "output_type": "stream",
          "text": [
            "60000/60000 [==============================] - 10s 168us/step - loss: 0.0658 - acc: 0.9794 - val_loss: 0.0663 - val_acc: 0.9784\n",
            "Epoch 2/80\n",
            "60000/60000 [==============================] - 10s 169us/step - loss: 0.0621 - acc: 0.9811 - val_loss: 0.0625 - val_acc: 0.9803\n",
            "Epoch 3/80\n",
            "60000/60000 [==============================] - 10s 168us/step - loss: 0.0591 - acc: 0.9818 - val_loss: 0.0717 - val_acc: 0.9786\n",
            "Epoch 4/80\n",
            "60000/60000 [==============================] - 10s 169us/step - loss: 0.0559 - acc: 0.9830 - val_loss: 0.0751 - val_acc: 0.9771\n",
            "Epoch 5/80\n",
            "60000/60000 [==============================] - 10s 168us/step - loss: 0.0536 - acc: 0.9833 - val_loss: 0.0654 - val_acc: 0.9797\n",
            "Epoch 6/80\n",
            "60000/60000 [==============================] - 10s 169us/step - loss: 0.0511 - acc: 0.9842 - val_loss: 0.0582 - val_acc: 0.9831\n",
            "Epoch 7/80\n",
            "60000/60000 [==============================] - 11s 186us/step - loss: 0.0496 - acc: 0.9842 - val_loss: 0.0681 - val_acc: 0.9792\n",
            "Epoch 8/80\n",
            "60000/60000 [==============================] - 10s 169us/step - loss: 0.0475 - acc: 0.9857 - val_loss: 0.0568 - val_acc: 0.9838\n",
            "Epoch 9/80\n",
            "60000/60000 [==============================] - 10s 167us/step - loss: 0.0456 - acc: 0.9860 - val_loss: 0.0560 - val_acc: 0.9836\n",
            "Epoch 10/80\n",
            "60000/60000 [==============================] - 10s 169us/step - loss: 0.0440 - acc: 0.9863 - val_loss: 0.0572 - val_acc: 0.9820\n",
            "Epoch 11/80\n",
            "60000/60000 [==============================] - 10s 168us/step - loss: 0.0418 - acc: 0.9868 - val_loss: 0.0513 - val_acc: 0.9850\n",
            "Epoch 12/80\n",
            "60000/60000 [==============================] - 10s 168us/step - loss: 0.0411 - acc: 0.9875 - val_loss: 0.0566 - val_acc: 0.9828\n",
            "Epoch 13/80\n",
            "60000/60000 [==============================] - 10s 169us/step - loss: 0.0394 - acc: 0.9875 - val_loss: 0.0527 - val_acc: 0.9843\n",
            "Epoch 14/80\n",
            "60000/60000 [==============================] - 10s 172us/step - loss: 0.0393 - acc: 0.9880 - val_loss: 0.0597 - val_acc: 0.9820\n",
            "Epoch 15/80\n",
            "60000/60000 [==============================] - 11s 185us/step - loss: 0.0372 - acc: 0.9884 - val_loss: 0.0563 - val_acc: 0.9824\n",
            "Epoch 16/80\n",
            "60000/60000 [==============================] - 11s 177us/step - loss: 0.0361 - acc: 0.9884 - val_loss: 0.0735 - val_acc: 0.9775\n",
            "Epoch 17/80\n",
            "60000/60000 [==============================] - 10s 172us/step - loss: 0.0356 - acc: 0.9889 - val_loss: 0.0632 - val_acc: 0.9827\n",
            "Epoch 18/80\n",
            "60000/60000 [==============================] - 10s 167us/step - loss: 0.0340 - acc: 0.9895 - val_loss: 0.0514 - val_acc: 0.9848\n",
            "Epoch 19/80\n",
            "60000/60000 [==============================] - 10s 170us/step - loss: 0.0339 - acc: 0.9895 - val_loss: 0.0573 - val_acc: 0.9832\n",
            "Epoch 20/80\n",
            "60000/60000 [==============================] - 12s 193us/step - loss: 0.0333 - acc: 0.9896 - val_loss: 0.0540 - val_acc: 0.9826\n",
            "Epoch 21/80\n",
            "60000/60000 [==============================] - 10s 167us/step - loss: 0.0319 - acc: 0.9904 - val_loss: 0.0509 - val_acc: 0.9863\n",
            "Epoch 22/80\n",
            "60000/60000 [==============================] - 11s 177us/step - loss: 0.0311 - acc: 0.9901 - val_loss: 0.0578 - val_acc: 0.9835\n",
            "Epoch 23/80\n",
            "60000/60000 [==============================] - 11s 178us/step - loss: 0.0310 - acc: 0.9902 - val_loss: 0.0459 - val_acc: 0.9862\n",
            "Epoch 24/80\n",
            "60000/60000 [==============================] - 10s 167us/step - loss: 0.0295 - acc: 0.9907 - val_loss: 0.0497 - val_acc: 0.9851\n",
            "Epoch 25/80\n",
            "60000/60000 [==============================] - 10s 167us/step - loss: 0.0290 - acc: 0.9909 - val_loss: 0.0481 - val_acc: 0.9863\n",
            "Epoch 26/80\n",
            "60000/60000 [==============================] - 10s 170us/step - loss: 0.0288 - acc: 0.9905 - val_loss: 0.0521 - val_acc: 0.9855\n",
            "Epoch 27/80\n",
            "60000/60000 [==============================] - 10s 168us/step - loss: 0.0271 - acc: 0.9917 - val_loss: 0.0526 - val_acc: 0.9858\n",
            "Epoch 28/80\n",
            "60000/60000 [==============================] - 10s 168us/step - loss: 0.0272 - acc: 0.9914 - val_loss: 0.0573 - val_acc: 0.9840\n",
            "Epoch 29/80\n",
            "60000/60000 [==============================] - 10s 168us/step - loss: 0.0260 - acc: 0.9918 - val_loss: 0.0500 - val_acc: 0.9863\n",
            "Epoch 30/80\n",
            "60000/60000 [==============================] - 11s 180us/step - loss: 0.0254 - acc: 0.9917 - val_loss: 0.0476 - val_acc: 0.9860\n",
            "Epoch 31/80\n",
            "60000/60000 [==============================] - 10s 175us/step - loss: 0.0253 - acc: 0.9917 - val_loss: 0.0520 - val_acc: 0.9857\n",
            "Epoch 32/80\n",
            "60000/60000 [==============================] - 10s 168us/step - loss: 0.0241 - acc: 0.9927 - val_loss: 0.0478 - val_acc: 0.9857\n",
            "Epoch 33/80\n",
            "60000/60000 [==============================] - 10s 168us/step - loss: 0.0234 - acc: 0.9924 - val_loss: 0.0584 - val_acc: 0.9829\n",
            "Epoch 34/80\n",
            "60000/60000 [==============================] - 10s 168us/step - loss: 0.0240 - acc: 0.9919 - val_loss: 0.0568 - val_acc: 0.9854\n",
            "Epoch 35/80\n",
            "60000/60000 [==============================] - 10s 168us/step - loss: 0.0232 - acc: 0.9924 - val_loss: 0.0587 - val_acc: 0.9833\n",
            "Epoch 36/80\n",
            "60000/60000 [==============================] - 10s 167us/step - loss: 0.0220 - acc: 0.9928 - val_loss: 0.0473 - val_acc: 0.9866\n",
            "Epoch 37/80\n",
            "60000/60000 [==============================] - 10s 169us/step - loss: 0.0225 - acc: 0.9928 - val_loss: 0.0614 - val_acc: 0.9826\n",
            "Epoch 38/80\n",
            "60000/60000 [==============================] - 11s 182us/step - loss: 0.0220 - acc: 0.9929 - val_loss: 0.0588 - val_acc: 0.9846\n",
            "Epoch 39/80\n",
            "60000/60000 [==============================] - 10s 173us/step - loss: 0.0220 - acc: 0.9929 - val_loss: 0.0478 - val_acc: 0.9851\n",
            "Epoch 40/80\n",
            "60000/60000 [==============================] - 10s 168us/step - loss: 0.0202 - acc: 0.9936 - val_loss: 0.0639 - val_acc: 0.9847\n",
            "Epoch 41/80\n",
            "60000/60000 [==============================] - 10s 167us/step - loss: 0.0200 - acc: 0.9935 - val_loss: 0.0473 - val_acc: 0.9875\n",
            "Epoch 42/80\n",
            "60000/60000 [==============================] - 10s 167us/step - loss: 0.0198 - acc: 0.9935 - val_loss: 0.0570 - val_acc: 0.9840\n",
            "Epoch 43/80\n",
            "60000/60000 [==============================] - 10s 167us/step - loss: 0.0195 - acc: 0.9935 - val_loss: 0.0514 - val_acc: 0.9858\n",
            "Epoch 44/80\n",
            "60000/60000 [==============================] - 10s 167us/step - loss: 0.0182 - acc: 0.9941 - val_loss: 0.0601 - val_acc: 0.9847\n",
            "Epoch 45/80\n",
            "60000/60000 [==============================] - 10s 167us/step - loss: 0.0179 - acc: 0.9945 - val_loss: 0.0561 - val_acc: 0.9851\n",
            "Epoch 46/80\n",
            "60000/60000 [==============================] - 11s 188us/step - loss: 0.0184 - acc: 0.9938 - val_loss: 0.0626 - val_acc: 0.9847\n",
            "Epoch 47/80\n",
            "60000/60000 [==============================] - 10s 168us/step - loss: 0.0176 - acc: 0.9944 - val_loss: 0.0556 - val_acc: 0.9863\n",
            "Epoch 48/80\n",
            "60000/60000 [==============================] - 10s 168us/step - loss: 0.0187 - acc: 0.9939 - val_loss: 0.0500 - val_acc: 0.9861\n",
            "Epoch 49/80\n",
            "60000/60000 [==============================] - 10s 167us/step - loss: 0.0168 - acc: 0.9950 - val_loss: 0.0506 - val_acc: 0.9869\n",
            "Epoch 50/80\n",
            "60000/60000 [==============================] - 12s 195us/step - loss: 0.0166 - acc: 0.9945 - val_loss: 0.0513 - val_acc: 0.9866\n",
            "Epoch 51/80\n",
            "60000/60000 [==============================] - 10s 167us/step - loss: 0.0170 - acc: 0.9943 - val_loss: 0.0569 - val_acc: 0.9856\n",
            "Epoch 52/80\n",
            "60000/60000 [==============================] - 10s 168us/step - loss: 0.0163 - acc: 0.9942 - val_loss: 0.0677 - val_acc: 0.9849\n",
            "Epoch 53/80\n",
            "60000/60000 [==============================] - 10s 168us/step - loss: 0.0157 - acc: 0.9950 - val_loss: 0.0602 - val_acc: 0.9859\n",
            "Epoch 54/80\n",
            "60000/60000 [==============================] - 11s 186us/step - loss: 0.0151 - acc: 0.9948 - val_loss: 0.0614 - val_acc: 0.9846\n",
            "Epoch 55/80\n",
            "60000/60000 [==============================] - 10s 168us/step - loss: 0.0153 - acc: 0.9949 - val_loss: 0.0617 - val_acc: 0.9858\n",
            "Epoch 56/80\n",
            "60000/60000 [==============================] - 10s 167us/step - loss: 0.0150 - acc: 0.9950 - val_loss: 0.0505 - val_acc: 0.9867\n",
            "Epoch 57/80\n",
            "60000/60000 [==============================] - 10s 168us/step - loss: 0.0152 - acc: 0.9950 - val_loss: 0.0635 - val_acc: 0.9839\n",
            "Epoch 58/80\n",
            "60000/60000 [==============================] - 10s 167us/step - loss: 0.0155 - acc: 0.9952 - val_loss: 0.0626 - val_acc: 0.9853\n",
            "Epoch 59/80\n",
            "60000/60000 [==============================] - 10s 167us/step - loss: 0.0137 - acc: 0.9955 - val_loss: 0.0687 - val_acc: 0.9847\n",
            "Epoch 60/80\n",
            "60000/60000 [==============================] - 10s 167us/step - loss: 0.0152 - acc: 0.9947 - val_loss: 0.0589 - val_acc: 0.9849\n",
            "Epoch 61/80\n",
            "60000/60000 [==============================] - 10s 170us/step - loss: 0.0139 - acc: 0.9954 - val_loss: 0.0615 - val_acc: 0.9843\n",
            "Epoch 62/80\n",
            "60000/60000 [==============================] - 11s 183us/step - loss: 0.0144 - acc: 0.9950 - val_loss: 0.0518 - val_acc: 0.9875\n",
            "Epoch 63/80\n",
            "60000/60000 [==============================] - 10s 167us/step - loss: 0.0141 - acc: 0.9955 - val_loss: 0.0668 - val_acc: 0.9840\n",
            "Epoch 64/80\n",
            "60000/60000 [==============================] - 10s 166us/step - loss: 0.0131 - acc: 0.9957 - val_loss: 0.0576 - val_acc: 0.9863\n",
            "Epoch 65/80\n",
            "60000/60000 [==============================] - 10s 165us/step - loss: 0.0123 - acc: 0.9960 - val_loss: 0.0642 - val_acc: 0.9847\n",
            "Epoch 66/80\n",
            "60000/60000 [==============================] - 10s 167us/step - loss: 0.0132 - acc: 0.9955 - val_loss: 0.0607 - val_acc: 0.9842\n",
            "Epoch 67/80\n",
            "60000/60000 [==============================] - 10s 166us/step - loss: 0.0115 - acc: 0.9963 - val_loss: 0.0624 - val_acc: 0.9865\n",
            "Epoch 68/80\n",
            "60000/60000 [==============================] - 10s 167us/step - loss: 0.0121 - acc: 0.9960 - val_loss: 0.0771 - val_acc: 0.9849\n",
            "Epoch 69/80\n",
            "60000/60000 [==============================] - 10s 171us/step - loss: 0.0130 - acc: 0.9957 - val_loss: 0.0620 - val_acc: 0.9857\n",
            "Epoch 70/80\n",
            "60000/60000 [==============================] - 11s 181us/step - loss: 0.0119 - acc: 0.9959 - val_loss: 0.0615 - val_acc: 0.9852\n",
            "Epoch 71/80\n",
            "60000/60000 [==============================] - 10s 165us/step - loss: 0.0113 - acc: 0.9966 - val_loss: 0.0612 - val_acc: 0.9846\n",
            "Epoch 72/80\n",
            "60000/60000 [==============================] - 10s 166us/step - loss: 0.0115 - acc: 0.9962 - val_loss: 0.0647 - val_acc: 0.9860\n",
            "Epoch 73/80\n",
            "60000/60000 [==============================] - 10s 166us/step - loss: 0.0119 - acc: 0.9960 - val_loss: 0.0633 - val_acc: 0.9861\n",
            "Epoch 74/80\n",
            "60000/60000 [==============================] - 10s 166us/step - loss: 0.0112 - acc: 0.9963 - val_loss: 0.0624 - val_acc: 0.9852\n",
            "Epoch 75/80\n",
            "60000/60000 [==============================] - 10s 166us/step - loss: 0.0109 - acc: 0.9963 - val_loss: 0.0727 - val_acc: 0.9833\n",
            "Epoch 76/80\n",
            "60000/60000 [==============================] - 11s 179us/step - loss: 0.0095 - acc: 0.9969 - val_loss: 0.0664 - val_acc: 0.9863\n",
            "Epoch 77/80\n",
            "60000/60000 [==============================] - 10s 173us/step - loss: 0.0125 - acc: 0.9955 - val_loss: 0.0627 - val_acc: 0.9864\n",
            "Epoch 78/80\n",
            "60000/60000 [==============================] - 11s 179us/step - loss: 0.0103 - acc: 0.9964 - val_loss: 0.0678 - val_acc: 0.9846\n",
            "Epoch 79/80\n",
            "60000/60000 [==============================] - 10s 166us/step - loss: 0.0100 - acc: 0.9966 - val_loss: 0.0677 - val_acc: 0.9847\n",
            "Epoch 80/80\n",
            "60000/60000 [==============================] - 11s 183us/step - loss: 0.0114 - acc: 0.9963 - val_loss: 0.0709 - val_acc: 0.9858\n"
          ],
          "name": "stdout"
        },
        {
          "output_type": "execute_result",
          "data": {
            "text/plain": [
              "<keras.callbacks.History at 0x7f23e3ac6e48>"
            ]
          },
          "metadata": {
            "tags": []
          },
          "execution_count": 54
        }
      ]
    },
    {
      "cell_type": "code",
      "metadata": {
        "id": "AtsH-lLk-eLb",
        "colab_type": "code",
        "colab": {}
      },
      "source": [
        "#EVA_Assignment4_1_The_Minimalist_Model\n",
        "# epochs = 10 params = 1294 val_acc = 94.2\n",
        "\n",
        "#Copy of EVA_Assignment4_4_Vanilla\n",
        "# epochs = 30 params = 2170 val_acc = 97.9\n",
        "\n",
        "#EVA_Assignment4_5_Second_Optimizer_Epochs\n",
        "# epochs = 90 params = 11220 val_acc = 98.5"
      ],
      "execution_count": 0,
      "outputs": []
    },
    {
      "cell_type": "code",
      "metadata": {
        "id": "OCWoJkwE9suh",
        "colab_type": "code",
        "colab": {}
      },
      "source": [
        "#getting the predicted output for the test data\n",
        "y_pred = model.predict(X_test)"
      ],
      "execution_count": 0,
      "outputs": []
    },
    {
      "cell_type": "code",
      "metadata": {
        "id": "Ym7iCFBm9uBs",
        "colab_type": "code",
        "outputId": "913796e2-6332-41ea-bcd5-00fac487d53d",
        "colab": {
          "base_uri": "https://localhost:8080/",
          "height": 503
        }
      },
      "source": [
        "#print output of predicted and output of test data\n",
        "print(y_pred[:9])\n",
        "print(y_test[:9])"
      ],
      "execution_count": 0,
      "outputs": [
        {
          "output_type": "stream",
          "text": [
            "[[2.64721363e-21 7.00216252e-14 1.85446343e-08 9.22448492e-14\n",
            "  1.52525113e-19 3.49152783e-15 1.67480495e-24 1.00000000e+00\n",
            "  1.10131054e-14 1.77342922e-13]\n",
            " [4.25965947e-12 1.04062096e-07 9.99999523e-01 1.36483338e-12\n",
            "  3.00702709e-07 2.19828330e-16 2.44653405e-14 1.03814704e-14\n",
            "  2.30739624e-12 5.97672941e-19]\n",
            " [2.11342384e-24 9.99999881e-01 1.25834865e-09 2.21301588e-13\n",
            "  1.20028509e-09 2.11485918e-09 1.67123592e-18 8.49988311e-08\n",
            "  1.74115427e-11 1.41019684e-18]\n",
            " [9.99999881e-01 2.47142387e-19 1.31935082e-07 8.58264067e-12\n",
            "  3.52599222e-12 5.45489083e-14 1.52635005e-09 7.99280651e-20\n",
            "  2.11017692e-09 6.41327920e-13]\n",
            " [4.16489516e-11 6.92295992e-18 6.65464818e-18 1.22982358e-23\n",
            "  1.00000000e+00 9.03116181e-20 1.90280848e-20 1.11442367e-15\n",
            "  1.11700627e-09 1.90252241e-08]\n",
            " [1.75630886e-27 9.99999404e-01 2.13011928e-10 2.95139855e-14\n",
            "  1.59184749e-10 1.03048278e-10 6.70677223e-22 6.02527393e-07\n",
            "  2.05275705e-12 8.05026906e-20]\n",
            " [4.76141343e-14 1.42590839e-09 1.74897869e-18 3.36366977e-23\n",
            "  9.99997258e-01 1.16086932e-11 1.91544246e-16 8.23931767e-09\n",
            "  2.59097897e-06 1.22105234e-07]\n",
            " [1.74532860e-13 3.64435615e-20 2.59065908e-14 6.51810203e-13\n",
            "  1.49342725e-07 8.44928706e-16 1.90592369e-21 8.05247535e-11\n",
            "  1.10372086e-13 9.99999881e-01]\n",
            " [5.45974821e-10 1.23281546e-14 2.08945862e-19 6.30017089e-12\n",
            "  2.09825511e-13 9.99972343e-01 2.75477687e-05 1.68488795e-26\n",
            "  1.50263929e-07 1.79211268e-09]]\n",
            "[7 2 1 0 4 1 4 9 5]\n"
          ],
          "name": "stdout"
        }
      ]
    },
    {
      "cell_type": "code",
      "metadata": {
        "id": "CT--y98_dr2T",
        "colab_type": "code",
        "colab": {}
      },
      "source": [
        "layer_dict = dict([(layer.name, layer) for layer in model.layers])"
      ],
      "execution_count": 0,
      "outputs": []
    },
    {
      "cell_type": "code",
      "metadata": {
        "id": "yOSxQIKRQT6_",
        "colab_type": "code",
        "outputId": "903a7080-53ab-4f66-8724-00b8027c7aa2",
        "colab": {
          "base_uri": "https://localhost:8080/",
          "height": 260
        }
      },
      "source": [
        "layer_dict"
      ],
      "execution_count": 0,
      "outputs": [
        {
          "output_type": "execute_result",
          "data": {
            "text/plain": [
              "{'activation_4': <keras.layers.core.Activation at 0x7f23e39bf048>,\n",
              " 'conv2d_34': <keras.layers.convolutional.Conv2D at 0x7f23e3b3db00>,\n",
              " 'conv2d_35': <keras.layers.convolutional.Conv2D at 0x7f23e3b3db38>,\n",
              " 'conv2d_36': <keras.layers.convolutional.Conv2D at 0x7f23e3b3dd30>,\n",
              " 'conv2d_37': <keras.layers.convolutional.Conv2D at 0x7f23e3b3de48>,\n",
              " 'conv2d_38': <keras.layers.convolutional.Conv2D at 0x7f23e3b3def0>,\n",
              " 'conv2d_39': <keras.layers.convolutional.Conv2D at 0x7f23e3a56390>,\n",
              " 'conv2d_40': <keras.layers.convolutional.Conv2D at 0x7f23e3a0f240>,\n",
              " 'conv2d_41': <keras.layers.convolutional.Conv2D at 0x7f23e3a25b00>,\n",
              " 'conv2d_42': <keras.layers.convolutional.Conv2D at 0x7f23e3a3c710>,\n",
              " 'conv2d_43': <keras.layers.convolutional.Conv2D at 0x7f23e39d0518>,\n",
              " 'conv2d_44': <keras.layers.convolutional.Conv2D at 0x7f23e39fc2e8>,\n",
              " 'flatten_4': <keras.layers.core.Flatten at 0x7f23e39bf7f0>,\n",
              " 'max_pooling2d_4': <keras.layers.pooling.MaxPooling2D at 0x7f23e3a0fc88>}"
            ]
          },
          "metadata": {
            "tags": []
          },
          "execution_count": 59
        }
      ]
    },
    {
      "cell_type": "code",
      "metadata": {
        "id": "2GY4Upv4dsUR",
        "colab_type": "code",
        "outputId": "2ae09104-43a4-4f98-a4e8-cc0ba578990d",
        "colab": {
          "base_uri": "https://localhost:8080/",
          "height": 322
        }
      },
      "source": [
        "import numpy as np\n",
        "from matplotlib import pyplot as plt\n",
        "from keras import backend as K\n",
        "%matplotlib inline\n",
        "# util function to convert a tensor into a valid image\n",
        "def deprocess_image(x):\n",
        "    # normalize tensor: center on 0., ensure std is 0.1\n",
        "    x -= x.mean()\n",
        "    x /= (x.std() + 1e-5)\n",
        "    x *= 0.1\n",
        "\n",
        "    # clip to [0, 1]\n",
        "    x += 0.5\n",
        "    x = np.clip(x, 0, 1)\n",
        "\n",
        "    # convert to RGB array\n",
        "    x *= 255\n",
        "    #x = x.transpose((1, 2, 0))\n",
        "    x = np.clip(x, 0, 255).astype('uint8')\n",
        "    return x\n",
        "\n",
        "def vis_img_in_filter(img = np.array(X_train[2]).reshape((1, 28, 28, 1)).astype(np.float64), \n",
        "                      layer_name = 'conv2d_14'):\n",
        "    layer_output = layer_dict[layer_name].output\n",
        "    img_ascs = list()\n",
        "    for filter_index in range(layer_output.shape[3]):\n",
        "        # build a loss function that maximizes the activation\n",
        "        # of the nth filter of the layer considered\n",
        "        loss = K.mean(layer_output[:, :, :, filter_index])\n",
        "\n",
        "        # compute the gradient of the input picture wrt this loss\n",
        "        grads = K.gradients(loss, model.input)[0]\n",
        "\n",
        "        # normalization trick: we normalize the gradient\n",
        "        grads /= (K.sqrt(K.mean(K.square(grads))) + 1e-5)\n",
        "\n",
        "        # this function returns the loss and grads given the input picture\n",
        "        iterate = K.function([model.input], [loss, grads])\n",
        "\n",
        "        # step size for gradient ascent\n",
        "        step = 5.\n",
        "\n",
        "        img_asc = np.array(img)\n",
        "        # run gradient ascent for 20 steps\n",
        "        for i in range(20):\n",
        "            loss_value, grads_value = iterate([img_asc])\n",
        "            img_asc += grads_value * step\n",
        "\n",
        "        img_asc = img_asc[0]\n",
        "        img_ascs.append(deprocess_image(img_asc).reshape((28, 28)))\n",
        "        \n",
        "    if layer_output.shape[3] >= 35:\n",
        "        plot_x, plot_y = 6, 6\n",
        "    elif layer_output.shape[3] >= 23:\n",
        "        plot_x, plot_y = 4, 6\n",
        "    elif layer_output.shape[3] >= 11:\n",
        "        plot_x, plot_y = 2, 6\n",
        "    else:\n",
        "        plot_x, plot_y = 1, 2\n",
        "    fig, ax = plt.subplots(plot_x, plot_y, figsize = (12, 12))\n",
        "    ax[0, 0].imshow(img.reshape((28, 28)), cmap = 'gray')\n",
        "    ax[0, 0].set_title('Input image')\n",
        "    fig.suptitle('Input image and %s filters' % (layer_name,))\n",
        "    fig.tight_layout(pad = 0.3, rect = [0, 0, 0.9, 0.9])\n",
        "    for (x, y) in [(i, j) for i in range(plot_x) for j in range(plot_y)]:\n",
        "        if x == 0 and y == 0:\n",
        "            continue\n",
        "        ax[x, y].imshow(img_ascs[x * plot_y + y - 1], cmap = 'gray')\n",
        "        ax[x, y].set_title('filter %d' % (x * plot_y + y - 1))\n",
        "\n",
        "vis_img_in_filter(layer_name = 'conv2d_1')"
      ],
      "execution_count": 0,
      "outputs": [
        {
          "output_type": "error",
          "ename": "KeyError",
          "evalue": "ignored",
          "traceback": [
            "\u001b[0;31m---------------------------------------------------------------------------\u001b[0m",
            "\u001b[0;31mKeyError\u001b[0m                                  Traceback (most recent call last)",
            "\u001b[0;32m<ipython-input-60-bfd09d8b327e>\u001b[0m in \u001b[0;36m<module>\u001b[0;34m()\u001b[0m\n\u001b[1;32m     69\u001b[0m         \u001b[0max\u001b[0m\u001b[0;34m[\u001b[0m\u001b[0mx\u001b[0m\u001b[0;34m,\u001b[0m \u001b[0my\u001b[0m\u001b[0;34m]\u001b[0m\u001b[0;34m.\u001b[0m\u001b[0mset_title\u001b[0m\u001b[0;34m(\u001b[0m\u001b[0;34m'filter %d'\u001b[0m \u001b[0;34m%\u001b[0m \u001b[0;34m(\u001b[0m\u001b[0mx\u001b[0m \u001b[0;34m*\u001b[0m \u001b[0mplot_y\u001b[0m \u001b[0;34m+\u001b[0m \u001b[0my\u001b[0m \u001b[0;34m-\u001b[0m \u001b[0;36m1\u001b[0m\u001b[0;34m)\u001b[0m\u001b[0;34m)\u001b[0m\u001b[0;34m\u001b[0m\u001b[0;34m\u001b[0m\u001b[0m\n\u001b[1;32m     70\u001b[0m \u001b[0;34m\u001b[0m\u001b[0m\n\u001b[0;32m---> 71\u001b[0;31m \u001b[0mvis_img_in_filter\u001b[0m\u001b[0;34m(\u001b[0m\u001b[0mlayer_name\u001b[0m \u001b[0;34m=\u001b[0m \u001b[0;34m'conv2d_1'\u001b[0m\u001b[0;34m)\u001b[0m\u001b[0;34m\u001b[0m\u001b[0;34m\u001b[0m\u001b[0m\n\u001b[0m",
            "\u001b[0;32m<ipython-input-60-bfd09d8b327e>\u001b[0m in \u001b[0;36mvis_img_in_filter\u001b[0;34m(img, layer_name)\u001b[0m\n\u001b[1;32m     22\u001b[0m def vis_img_in_filter(img = np.array(X_train[2]).reshape((1, 28, 28, 1)).astype(np.float64), \n\u001b[1;32m     23\u001b[0m                       layer_name = 'conv2d_14'):\n\u001b[0;32m---> 24\u001b[0;31m     \u001b[0mlayer_output\u001b[0m \u001b[0;34m=\u001b[0m \u001b[0mlayer_dict\u001b[0m\u001b[0;34m[\u001b[0m\u001b[0mlayer_name\u001b[0m\u001b[0;34m]\u001b[0m\u001b[0;34m.\u001b[0m\u001b[0moutput\u001b[0m\u001b[0;34m\u001b[0m\u001b[0;34m\u001b[0m\u001b[0m\n\u001b[0m\u001b[1;32m     25\u001b[0m     \u001b[0mimg_ascs\u001b[0m \u001b[0;34m=\u001b[0m \u001b[0mlist\u001b[0m\u001b[0;34m(\u001b[0m\u001b[0;34m)\u001b[0m\u001b[0;34m\u001b[0m\u001b[0;34m\u001b[0m\u001b[0m\n\u001b[1;32m     26\u001b[0m     \u001b[0;32mfor\u001b[0m \u001b[0mfilter_index\u001b[0m \u001b[0;32min\u001b[0m \u001b[0mrange\u001b[0m\u001b[0;34m(\u001b[0m\u001b[0mlayer_output\u001b[0m\u001b[0;34m.\u001b[0m\u001b[0mshape\u001b[0m\u001b[0;34m[\u001b[0m\u001b[0;36m3\u001b[0m\u001b[0;34m]\u001b[0m\u001b[0;34m)\u001b[0m\u001b[0;34m:\u001b[0m\u001b[0;34m\u001b[0m\u001b[0;34m\u001b[0m\u001b[0m\n",
            "\u001b[0;31mKeyError\u001b[0m: 'conv2d_1'"
          ]
        }
      ]
    }
  ]
}
